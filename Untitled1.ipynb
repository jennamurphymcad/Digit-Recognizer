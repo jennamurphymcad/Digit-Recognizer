{
 "cells": [
  {
   "cell_type": "markdown",
   "metadata": {},
   "source": [
    "Next Steps\n",
    "\n",
    "Regularization parameter C for Logistic Regression. L2 (many features are important - pg 67)\n",
    "\n"
   ]
  },
  {
   "cell_type": "markdown",
   "metadata": {},
   "source": [
    "NB - vary alpha\n",
    "Bernoulli assumes binary data (binarize attribute)"
   ]
  },
  {
   "cell_type": "markdown",
   "metadata": {},
   "source": [
    "RF\n",
    "number of trees = n_estimators\n"
   ]
  },
  {
   "cell_type": "code",
   "execution_count": null,
   "metadata": {},
   "outputs": [],
   "source": [
    "import pandas as pd\n",
    "import numpy as np\n",
    "import matplotlib.pyplot as plt\n",
    "import mglearn\n",
    "\n",
    "data = pd.read_csv(\"Data/digit-recognizer/train.csv\")\n",
    "\n",
    "y = data[\"label\"]\n",
    "y = y.values\n",
    "y\n",
    "\n",
    "X = data.drop(columns={\"label\"})\n",
    "X = X.values\n",
    "X.shape\n",
    "X\n",
    "\n",
    "\n",
    "from sklearn import preprocessing\n",
    "scaler = preprocessing.StandardScaler().fit(X)\n",
    "X = scaler.transform(X)\n",
    "\n",
    "X_image = X[:100].reshape(100,28,28)\n",
    "\n",
    "# set up the figure\n",
    "fig = plt.figure(figsize=(10, 10))  # figure size in inches\n",
    "fig.subplots_adjust(left=0, right=1, bottom=0, top=1, hspace=0.05, wspace=0.05)\n",
    "\n",
    "# plot the digits: each image is 28x28 pixels\n",
    "for i in range(9):\n",
    "    ax = fig.add_subplot(3, 3, i + 1, xticks=[], yticks=[])\n",
    "    ax.imshow(X_image[i], cmap=plt.cm.Greys, interpolation='nearest')\n",
    "    \n",
    "    # label the image with the target value\n",
    "    ax.text(0, 7, str(y[i]))\n",
    "\n",
    "Split data into test and train\n",
    "\n",
    "from sklearn.model_selection import train_test_split\n",
    "\n",
    "X_train, X_test, y_train, y_test = train_test_split(X, y,\n",
    "                                                    test_size=0.25,\n",
    "                                                    random_state=42,\n",
    "                                                    stratify=y)"
   ]
  },
  {
   "cell_type": "code",
   "execution_count": null,
   "metadata": {},
   "outputs": [],
   "source": [
    "from sklearn.ensemble import RandomForestClassifier\n",
    "\n",
    "rf_classifier = RandomForestClassifier(random_state = 42)\n",
    "\n",
    "rf_classifier.fit(X_train, y_train)\n",
    "\n",
    "prediction = rf_classifier.predict(X_test)\n",
    "\n",
    "accuracy = np.mean(prediction == y_test)\n",
    "print(\"Overall prediction accuracy: {:.2f}\".format(accuracy))\n",
    "\n",
    "import mglearn\n",
    "scores_image = mglearn.tools.heatmap(\n",
    "    confusion_matrix(y_test, prediction), xlabel='Predicted label',\n",
    "    ylabel='True label', xticklabels=[0,1,2,3,4,5,6,7,8,9],\n",
    "    yticklabels=[0,1,2,3,4,5,6,7,8,9], cmap=plt.cm.gray_r, fmt=\"%d\")\n",
    "plt.title(\"Confusion matrix\")\n",
    "plt.gca().invert_yaxis()"
   ]
  }
 ],
 "metadata": {
  "kernelspec": {
   "display_name": "Python [conda env:root] *",
   "language": "python",
   "name": "conda-root-py"
  },
  "language_info": {
   "codemirror_mode": {
    "name": "ipython",
    "version": 3
   },
   "file_extension": ".py",
   "mimetype": "text/x-python",
   "name": "python",
   "nbconvert_exporter": "python",
   "pygments_lexer": "ipython3",
   "version": "3.8.5"
  }
 },
 "nbformat": 4,
 "nbformat_minor": 4
}
