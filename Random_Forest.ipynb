{
 "cells": [
  {
   "cell_type": "markdown",
   "metadata": {},
   "source": [
    "# Random Forest Classifier"
   ]
  },
  {
   "cell_type": "code",
   "execution_count": 297,
   "metadata": {},
   "outputs": [],
   "source": [
    "import pandas as pd\n",
    "import numpy as np\n",
    "import matplotlib.pyplot as plt\n",
    "import mglearn\n",
    "\n",
    "data = pd.read_csv(\"Data/digit-recognizer/train.csv\")\n",
    "\n",
    "y = data[\"label\"]\n",
    "y = y.values\n",
    "X = data.drop(columns={\"label\"})\n",
    "X = X.values"
   ]
  },
  {
   "cell_type": "code",
   "execution_count": 94,
   "metadata": {},
   "outputs": [],
   "source": [
    "# Split data into test and train\n",
    "from sklearn.model_selection import train_test_split\n",
    "\n",
    "X_train, X_test, y_train, y_test = train_test_split(X, y,\n",
    "                                                    test_size=0.25,\n",
    "                                                    random_state=42,\n",
    "                                                    stratify=y)"
   ]
  },
  {
   "cell_type": "code",
   "execution_count": 95,
   "metadata": {},
   "outputs": [
    {
     "name": "stdout",
     "output_type": "stream",
     "text": [
      "Overall prediction accuracy: 0.96\n"
     ]
    }
   ],
   "source": [
    "from sklearn.ensemble import RandomForestClassifier\n",
    "\n",
    "rf_classifier = RandomForestClassifier(random_state = 42)\n",
    "\n",
    "rf_classifier.fit(X_train, y_train)\n",
    "\n",
    "prediction = rf_classifier.predict(X_test)\n",
    "\n",
    "accuracy = np.mean(prediction == y_test)\n",
    "print(\"Overall prediction accuracy: {:.2f}\".format(accuracy))"
   ]
  },
  {
   "cell_type": "code",
   "execution_count": 96,
   "metadata": {},
   "outputs": [
    {
     "data": {
      "image/png": "[encoded data removed]",
      "text/plain": [
       "<Figure size 432x288 with 1 Axes>"
      ]
     },
     "metadata": {
      "needs_background": "light"
     },
     "output_type": "display_data"
    }
   ],
   "source": [
    "from sklearn.metrics import confusion_matrix, roc_auc_score\n",
    "scores_image = mglearn.tools.heatmap(\n",
    "    confusion_matrix(y_test, prediction), xlabel='Predicted label',\n",
    "    ylabel='True label', xticklabels=[0,1,2,3,4,5,6,7,8,9],\n",
    "    yticklabels=[0,1,2,3,4,5,6,7,8,9], cmap=plt.cm.gray_r, fmt=\"%d\")\n",
    "plt.title(\"Confusion matrix\")\n",
    "plt.gca().invert_yaxis()"
   ]
  },
  {
   "cell_type": "code",
   "execution_count": 97,
   "metadata": {},
   "outputs": [
    {
     "data": {
      "text/plain": [
       "{'bootstrap': True,\n",
       " 'ccp_alpha': 0.0,\n",
       " 'class_weight': None,\n",
       " 'criterion': 'gini',\n",
       " 'max_depth': None,\n",
       " 'max_features': 'auto',\n",
       " 'max_leaf_nodes': None,\n",
       " 'max_samples': None,\n",
       " 'min_impurity_decrease': 0.0,\n",
       " 'min_impurity_split': None,\n",
       " 'min_samples_leaf': 1,\n",
       " 'min_samples_split': 2,\n",
       " 'min_weight_fraction_leaf': 0.0,\n",
       " 'n_estimators': 100,\n",
       " 'n_jobs': None,\n",
       " 'oob_score': False,\n",
       " 'random_state': 42,\n",
       " 'verbose': 0,\n",
       " 'warm_start': False}"
      ]
     },
     "execution_count": 97,
     "metadata": {},
     "output_type": "execute_result"
    }
   ],
   "source": [
    "rf_classifier.get_params()"
   ]
  },
  {
   "cell_type": "code",
   "execution_count": 98,
   "metadata": {},
   "outputs": [
    {
     "name": "stdout",
     "output_type": "stream",
     "text": [
      "Grid-Search with accuracy\n",
      "Best parameters: {'max_features': 14, 'n_estimators': 250}\n",
      "Best cross-validation score (accuracy)): 0.960\n",
      "Test set accuracy: 0.963\n"
     ]
    }
   ],
   "source": [
    "from sklearn.model_selection import GridSearchCV\n",
    "param_grid = {\"n_estimators\": [10, 50, 100, 250], \"max_features\": [7, 14, 28, 56]}\n",
    "grid = GridSearchCV(rf_classifier, param_grid = param_grid, cv=3)\n",
    "grid.fit(X_train, y_train)\n",
    "print(\"Grid-Search with accuracy\")\n",
    "print(\"Best parameters:\", grid.best_params_)\n",
    "print(\"Best cross-validation score (accuracy)): {:.3f}\".format(grid.best_score_))\n",
    "print(\"Test set accuracy: {:.3f}\".format(grid.score(X_test, y_test)))"
   ]
  },
  {
   "cell_type": "code",
   "execution_count": 100,
   "metadata": {},
   "outputs": [
    {
     "data": {
      "text/html": [
       "<div>\n",
       "<style scoped>\n",
       "    .dataframe tbody tr th:only-of-type {\n",
       "        vertical-align: middle;\n",
       "    }\n",
       "\n",
       "    .dataframe tbody tr th {\n",
       "        vertical-align: top;\n",
       "    }\n",
       "\n",
       "    .dataframe thead th {\n",
       "        text-align: right;\n",
       "    }\n",
       "</style>\n",
       "<table border=\"1\" class=\"dataframe\">\n",
       "  <thead>\n",
       "    <tr style=\"text-align: right;\">\n",
       "      <th></th>\n",
       "      <th>mean_fit_time</th>\n",
       "      <th>std_fit_time</th>\n",
       "      <th>mean_score_time</th>\n",
       "      <th>std_score_time</th>\n",
       "      <th>param_max_features</th>\n",
       "      <th>param_n_estimators</th>\n",
       "      <th>split0_test_score</th>\n",
       "      <th>split1_test_score</th>\n",
       "      <th>split2_test_score</th>\n",
       "      <th>mean_test_score</th>\n",
       "      <th>std_test_score</th>\n",
       "      <th>rank_test_score</th>\n",
       "    </tr>\n",
       "  </thead>\n",
       "  <tbody>\n",
       "    <tr>\n",
       "      <th>0</th>\n",
       "      <td>0.410877</td>\n",
       "      <td>0.032615</td>\n",
       "      <td>0.059633</td>\n",
       "      <td>0.010261</td>\n",
       "      <td>7</td>\n",
       "      <td>10</td>\n",
       "      <td>0.908571</td>\n",
       "      <td>0.908476</td>\n",
       "      <td>0.910095</td>\n",
       "      <td>0.909048</td>\n",
       "      <td>0.000742</td>\n",
       "      <td>16</td>\n",
       "    </tr>\n",
       "    <tr>\n",
       "      <th>1</th>\n",
       "      <td>1.636827</td>\n",
       "      <td>0.012142</td>\n",
       "      <td>0.168795</td>\n",
       "      <td>0.004693</td>\n",
       "      <td>7</td>\n",
       "      <td>50</td>\n",
       "      <td>0.948095</td>\n",
       "      <td>0.948095</td>\n",
       "      <td>0.951524</td>\n",
       "      <td>0.949238</td>\n",
       "      <td>0.001616</td>\n",
       "      <td>12</td>\n",
       "    </tr>\n",
       "    <tr>\n",
       "      <th>2</th>\n",
       "      <td>3.230480</td>\n",
       "      <td>0.068895</td>\n",
       "      <td>0.333846</td>\n",
       "      <td>0.010219</td>\n",
       "      <td>7</td>\n",
       "      <td>100</td>\n",
       "      <td>0.953143</td>\n",
       "      <td>0.953619</td>\n",
       "      <td>0.956476</td>\n",
       "      <td>0.954413</td>\n",
       "      <td>0.001472</td>\n",
       "      <td>11</td>\n",
       "    </tr>\n",
       "    <tr>\n",
       "      <th>3</th>\n",
       "      <td>8.388879</td>\n",
       "      <td>0.582431</td>\n",
       "      <td>0.815595</td>\n",
       "      <td>0.059753</td>\n",
       "      <td>7</td>\n",
       "      <td>250</td>\n",
       "      <td>0.956476</td>\n",
       "      <td>0.956381</td>\n",
       "      <td>0.959238</td>\n",
       "      <td>0.957365</td>\n",
       "      <td>0.001325</td>\n",
       "      <td>7</td>\n",
       "    </tr>\n",
       "    <tr>\n",
       "      <th>4</th>\n",
       "      <td>0.574980</td>\n",
       "      <td>0.028703</td>\n",
       "      <td>0.052536</td>\n",
       "      <td>0.009386</td>\n",
       "      <td>14</td>\n",
       "      <td>10</td>\n",
       "      <td>0.923143</td>\n",
       "      <td>0.919714</td>\n",
       "      <td>0.923429</td>\n",
       "      <td>0.922095</td>\n",
       "      <td>0.001688</td>\n",
       "      <td>15</td>\n",
       "    </tr>\n",
       "    <tr>\n",
       "      <th>5</th>\n",
       "      <td>2.730935</td>\n",
       "      <td>0.200251</td>\n",
       "      <td>0.172455</td>\n",
       "      <td>0.004427</td>\n",
       "      <td>14</td>\n",
       "      <td>50</td>\n",
       "      <td>0.954095</td>\n",
       "      <td>0.954286</td>\n",
       "      <td>0.955810</td>\n",
       "      <td>0.954730</td>\n",
       "      <td>0.000767</td>\n",
       "      <td>10</td>\n",
       "    </tr>\n",
       "    <tr>\n",
       "      <th>6</th>\n",
       "      <td>5.100590</td>\n",
       "      <td>0.200813</td>\n",
       "      <td>0.299777</td>\n",
       "      <td>0.013178</td>\n",
       "      <td>14</td>\n",
       "      <td>100</td>\n",
       "      <td>0.956952</td>\n",
       "      <td>0.957048</td>\n",
       "      <td>0.959714</td>\n",
       "      <td>0.957905</td>\n",
       "      <td>0.001280</td>\n",
       "      <td>6</td>\n",
       "    </tr>\n",
       "    <tr>\n",
       "      <th>7</th>\n",
       "      <td>12.423859</td>\n",
       "      <td>0.056028</td>\n",
       "      <td>0.752951</td>\n",
       "      <td>0.021310</td>\n",
       "      <td>14</td>\n",
       "      <td>250</td>\n",
       "      <td>0.958381</td>\n",
       "      <td>0.959048</td>\n",
       "      <td>0.962190</td>\n",
       "      <td>0.959873</td>\n",
       "      <td>0.001661</td>\n",
       "      <td>1</td>\n",
       "    </tr>\n",
       "    <tr>\n",
       "      <th>8</th>\n",
       "      <td>0.914058</td>\n",
       "      <td>0.016962</td>\n",
       "      <td>0.045715</td>\n",
       "      <td>0.002419</td>\n",
       "      <td>28</td>\n",
       "      <td>10</td>\n",
       "      <td>0.928476</td>\n",
       "      <td>0.927905</td>\n",
       "      <td>0.929905</td>\n",
       "      <td>0.928762</td>\n",
       "      <td>0.000841</td>\n",
       "      <td>14</td>\n",
       "    </tr>\n",
       "    <tr>\n",
       "      <th>9</th>\n",
       "      <td>4.441508</td>\n",
       "      <td>0.025515</td>\n",
       "      <td>0.155745</td>\n",
       "      <td>0.011739</td>\n",
       "      <td>28</td>\n",
       "      <td>50</td>\n",
       "      <td>0.952667</td>\n",
       "      <td>0.955524</td>\n",
       "      <td>0.957714</td>\n",
       "      <td>0.955302</td>\n",
       "      <td>0.002067</td>\n",
       "      <td>9</td>\n",
       "    </tr>\n",
       "    <tr>\n",
       "      <th>10</th>\n",
       "      <td>8.602476</td>\n",
       "      <td>0.048193</td>\n",
       "      <td>0.292580</td>\n",
       "      <td>0.006840</td>\n",
       "      <td>28</td>\n",
       "      <td>100</td>\n",
       "      <td>0.955905</td>\n",
       "      <td>0.958381</td>\n",
       "      <td>0.961619</td>\n",
       "      <td>0.958635</td>\n",
       "      <td>0.002340</td>\n",
       "      <td>5</td>\n",
       "    </tr>\n",
       "    <tr>\n",
       "      <th>11</th>\n",
       "      <td>21.245641</td>\n",
       "      <td>0.220224</td>\n",
       "      <td>0.724360</td>\n",
       "      <td>0.025553</td>\n",
       "      <td>28</td>\n",
       "      <td>250</td>\n",
       "      <td>0.957238</td>\n",
       "      <td>0.959905</td>\n",
       "      <td>0.962286</td>\n",
       "      <td>0.959810</td>\n",
       "      <td>0.002062</td>\n",
       "      <td>2</td>\n",
       "    </tr>\n",
       "    <tr>\n",
       "      <th>12</th>\n",
       "      <td>1.677690</td>\n",
       "      <td>0.005068</td>\n",
       "      <td>0.047202</td>\n",
       "      <td>0.004211</td>\n",
       "      <td>56</td>\n",
       "      <td>10</td>\n",
       "      <td>0.932476</td>\n",
       "      <td>0.930952</td>\n",
       "      <td>0.932762</td>\n",
       "      <td>0.932063</td>\n",
       "      <td>0.000794</td>\n",
       "      <td>13</td>\n",
       "    </tr>\n",
       "    <tr>\n",
       "      <th>13</th>\n",
       "      <td>7.989485</td>\n",
       "      <td>0.107383</td>\n",
       "      <td>0.146108</td>\n",
       "      <td>0.004514</td>\n",
       "      <td>56</td>\n",
       "      <td>50</td>\n",
       "      <td>0.954381</td>\n",
       "      <td>0.956190</td>\n",
       "      <td>0.958667</td>\n",
       "      <td>0.956413</td>\n",
       "      <td>0.001757</td>\n",
       "      <td>8</td>\n",
       "    </tr>\n",
       "    <tr>\n",
       "      <th>14</th>\n",
       "      <td>16.827219</td>\n",
       "      <td>0.771679</td>\n",
       "      <td>0.312269</td>\n",
       "      <td>0.052158</td>\n",
       "      <td>56</td>\n",
       "      <td>100</td>\n",
       "      <td>0.956762</td>\n",
       "      <td>0.958190</td>\n",
       "      <td>0.961333</td>\n",
       "      <td>0.958762</td>\n",
       "      <td>0.001910</td>\n",
       "      <td>4</td>\n",
       "    </tr>\n",
       "    <tr>\n",
       "      <th>15</th>\n",
       "      <td>41.316659</td>\n",
       "      <td>0.609393</td>\n",
       "      <td>0.731810</td>\n",
       "      <td>0.042823</td>\n",
       "      <td>56</td>\n",
       "      <td>250</td>\n",
       "      <td>0.958190</td>\n",
       "      <td>0.958667</td>\n",
       "      <td>0.962571</td>\n",
       "      <td>0.959810</td>\n",
       "      <td>0.001963</td>\n",
       "      <td>2</td>\n",
       "    </tr>\n",
       "  </tbody>\n",
       "</table>\n",
       "</div>"
      ],
      "text/plain": [
       "    mean_fit_time  std_fit_time  mean_score_time  std_score_time  \\\n",
       "0        0.410877      0.032615         0.059633        0.010261   \n",
       "1        1.636827      0.012142         0.168795        0.004693   \n",
       "2        3.230480      0.068895         0.333846        0.010219   \n",
       "3        8.388879      0.582431         0.815595        0.059753   \n",
       "4        0.574980      0.028703         0.052536        0.009386   \n",
       "5        2.730935      0.200251         0.172455        0.004427   \n",
       "6        5.100590      0.200813         0.299777        0.013178   \n",
       "7       12.423859      0.056028         0.752951        0.021310   \n",
       "8        0.914058      0.016962         0.045715        0.002419   \n",
       "9        4.441508      0.025515         0.155745        0.011739   \n",
       "10       8.602476      0.048193         0.292580        0.006840   \n",
       "11      21.245641      0.220224         0.724360        0.025553   \n",
       "12       1.677690      0.005068         0.047202        0.004211   \n",
       "13       7.989485      0.107383         0.146108        0.004514   \n",
       "14      16.827219      0.771679         0.312269        0.052158   \n",
       "15      41.316659      0.609393         0.731810        0.042823   \n",
       "\n",
       "   param_max_features param_n_estimators  split0_test_score  \\\n",
       "0                   7                 10           0.908571   \n",
       "1                   7                 50           0.948095   \n",
       "2                   7                100           0.953143   \n",
       "3                   7                250           0.956476   \n",
       "4                  14                 10           0.923143   \n",
       "5                  14                 50           0.954095   \n",
       "6                  14                100           0.956952   \n",
       "7                  14                250           0.958381   \n",
       "8                  28                 10           0.928476   \n",
       "9                  28                 50           0.952667   \n",
       "10                 28                100           0.955905   \n",
       "11                 28                250           0.957238   \n",
       "12                 56                 10           0.932476   \n",
       "13                 56                 50           0.954381   \n",
       "14                 56                100           0.956762   \n",
       "15                 56                250           0.958190   \n",
       "\n",
       "    split1_test_score  split2_test_score  mean_test_score  std_test_score  \\\n",
       "0            0.908476           0.910095         0.909048        0.000742   \n",
       "1            0.948095           0.951524         0.949238        0.001616   \n",
       "2            0.953619           0.956476         0.954413        0.001472   \n",
       "3            0.956381           0.959238         0.957365        0.001325   \n",
       "4            0.919714           0.923429         0.922095        0.001688   \n",
       "5            0.954286           0.955810         0.954730        0.000767   \n",
       "6            0.957048           0.959714         0.957905        0.001280   \n",
       "7            0.959048           0.962190         0.959873        0.001661   \n",
       "8            0.927905           0.929905         0.928762        0.000841   \n",
       "9            0.955524           0.957714         0.955302        0.002067   \n",
       "10           0.958381           0.961619         0.958635        0.002340   \n",
       "11           0.959905           0.962286         0.959810        0.002062   \n",
       "12           0.930952           0.932762         0.932063        0.000794   \n",
       "13           0.956190           0.958667         0.956413        0.001757   \n",
       "14           0.958190           0.961333         0.958762        0.001910   \n",
       "15           0.958667           0.962571         0.959810        0.001963   \n",
       "\n",
       "    rank_test_score  \n",
       "0                16  \n",
       "1                12  \n",
       "2                11  \n",
       "3                 7  \n",
       "4                15  \n",
       "5                10  \n",
       "6                 6  \n",
       "7                 1  \n",
       "8                14  \n",
       "9                 9  \n",
       "10                5  \n",
       "11                2  \n",
       "12               13  \n",
       "13                8  \n",
       "14                4  \n",
       "15                2  "
      ]
     },
     "execution_count": 100,
     "metadata": {},
     "output_type": "execute_result"
    }
   ],
   "source": [
    "pd.DataFrame(grid.cv_results_).drop(columns={\"params\"})"
   ]
  },
  {
   "cell_type": "code",
   "execution_count": null,
   "metadata": {},
   "outputs": [],
   "source": []
  },
  {
   "cell_type": "code",
   "execution_count": 101,
   "metadata": {},
   "outputs": [
    {
     "name": "stdout",
     "output_type": "stream",
     "text": [
      "[[0.008 0.    0.024 0.084 0.012 0.02  0.008 0.02  0.796 0.028]\n",
      " [0.016 0.024 0.012 0.064 0.008 0.372 0.292 0.008 0.176 0.028]\n",
      " [0.    0.02  0.928 0.012 0.004 0.    0.024 0.004 0.008 0.   ]\n",
      " [0.008 0.004 0.012 0.028 0.772 0.008 0.016 0.032 0.04  0.08 ]\n",
      " [0.004 0.02  0.004 0.024 0.    0.836 0.016 0.    0.072 0.024]\n",
      " [0.604 0.    0.024 0.052 0.008 0.12  0.104 0.06  0.012 0.016]\n",
      " [0.012 0.004 0.032 0.004 0.012 0.    0.928 0.004 0.    0.004]\n",
      " [0.024 0.004 0.128 0.016 0.128 0.008 0.632 0.016 0.02  0.024]\n",
      " [0.004 0.    0.016 0.008 0.024 0.016 0.    0.672 0.    0.26 ]\n",
      " [0.008 0.004 0.    0.012 0.012 0.004 0.    0.02  0.012 0.928]]\n"
     ]
    }
   ],
   "source": [
    "print(grid.predict_proba(X_test)[:10])"
   ]
  },
  {
   "cell_type": "code",
   "execution_count": 102,
   "metadata": {},
   "outputs": [
    {
     "data": {
      "text/plain": [
       "656"
      ]
     },
     "execution_count": 102,
     "metadata": {},
     "output_type": "execute_result"
    }
   ],
   "source": [
    "np.count_nonzero(rf_classifier.feature_importances_)"
   ]
  },
  {
   "cell_type": "code",
   "execution_count": 103,
   "metadata": {},
   "outputs": [],
   "source": [
    "x = rf_classifier.feature_importances_.reshape(784)"
   ]
  },
  {
   "cell_type": "code",
   "execution_count": 104,
   "metadata": {},
   "outputs": [
    {
     "data": {
      "text/plain": [
       "array([0.    , 0.0001, 0.0002, 0.0003, 0.0004, 0.0005, 0.0006, 0.0007,\n",
       "       0.0008, 0.0009, 0.001 , 0.0011, 0.0012, 0.0013, 0.0014, 0.0015,\n",
       "       0.0016, 0.0017, 0.0018, 0.0019, 0.002 , 0.0021, 0.0022, 0.0023,\n",
       "       0.0024, 0.0025, 0.0026, 0.0027, 0.0028, 0.0029, 0.003 , 0.0031,\n",
       "       0.0032, 0.0033, 0.0034, 0.0035, 0.0036, 0.0037, 0.0038, 0.0039,\n",
       "       0.004 , 0.0041, 0.0042, 0.0043, 0.0044, 0.0045, 0.0046, 0.0047,\n",
       "       0.0048, 0.0049, 0.005 , 0.0051, 0.0052, 0.0053, 0.0054, 0.0055,\n",
       "       0.0056, 0.0057, 0.0058, 0.0059, 0.006 , 0.0061, 0.0062, 0.0063,\n",
       "       0.0064, 0.0065, 0.0066, 0.0067, 0.0068, 0.0069, 0.007 , 0.0071,\n",
       "       0.0072, 0.0073, 0.0074, 0.0075, 0.0076, 0.0077, 0.0078, 0.0079,\n",
       "       0.008 , 0.0081, 0.0082, 0.0083, 0.0084, 0.0085, 0.0086, 0.0087,\n",
       "       0.0088, 0.0089, 0.009 , 0.0091, 0.0092, 0.0093, 0.0094, 0.0095,\n",
       "       0.0096, 0.0097, 0.0098, 0.0099])"
      ]
     },
     "execution_count": 104,
     "metadata": {},
     "output_type": "execute_result"
    }
   ],
   "source": [
    "bins = np.arange(0,0.01,0.0001)\n",
    "bins"
   ]
  },
  {
   "cell_type": "code",
   "execution_count": 105,
   "metadata": {},
   "outputs": [
    {
     "data": {
      "text/plain": [
       "array([  0, 334,  39,  22,  17,  14,  19,  13,   7,   5,   9,  12,  11,\n",
       "        15,  11,  12,   8,  12,  13,   9,   9,   5,   7,   7,   8,   5,\n",
       "         5,   6,   6,   3,   3,   5,   4,   4,   7,   6,   7,   2,   5,\n",
       "         8,   3,  10,   2,   1,   6,   6,   7,   6,   3,   2,   4,   1,\n",
       "         4,   3,   1,   1,   3,   2,   2,   4,   3,   1,   1,   2,   2,\n",
       "         0,   0,   1,   2,   0,   0,   0,   0,   1,   0,   1,   0,   0,\n",
       "         1,   0,   0,   0,   0,   1,   1,   0,   0,   0,   0,   0,   1,\n",
       "         0,   0,   0,   0,   0,   0,   0,   1], dtype=int64)"
      ]
     },
     "execution_count": 105,
     "metadata": {},
     "output_type": "execute_result"
    }
   ],
   "source": [
    "np.bincount(np.digitize(x, bins))"
   ]
  },
  {
   "cell_type": "code",
   "execution_count": 133,
   "metadata": {
    "scrolled": true
   },
   "outputs": [
    {
     "data": {
      "image/png": "[encoded data removed]",
      "text/plain": [
       "<Figure size 432x288 with 1 Axes>"
      ]
     },
     "metadata": {
      "needs_background": "light"
     },
     "output_type": "display_data"
    }
   ],
   "source": [
    "plt.hist(rf_classifier.feature_importances_, bins = 10, cumulative = False);"
   ]
  },
  {
   "cell_type": "code",
   "execution_count": 107,
   "metadata": {},
   "outputs": [],
   "source": [
    "y = x.reshape(28,28)"
   ]
  },
  {
   "cell_type": "code",
   "execution_count": 119,
   "metadata": {},
   "outputs": [
    {
     "data": {
      "image/png": "[encoded data removed]",
      "text/plain": [
       "<Figure size 360x360 with 1 Axes>"
      ]
     },
     "metadata": {
      "needs_background": "light"
     },
     "output_type": "display_data"
    }
   ],
   "source": [
    "# set up the figure\n",
    "fig = plt.figure(figsize=(5, 5))  # figure size in inches\n",
    "fig.subplots_adjust(left=0, right=1, bottom=0, top=1, hspace=0.05, wspace=0.05)\n",
    "\n",
    "# plot the digits: each image is 28x28 pixels\n",
    "\n",
    "ax = fig.add_subplot()\n",
    "ax.imshow(y, cmap=plt.cm.afmhot_r, interpolation='nearest');"
   ]
  },
  {
   "cell_type": "code",
   "execution_count": null,
   "metadata": {},
   "outputs": [],
   "source": []
  },
  {
   "cell_type": "code",
   "execution_count": 123,
   "metadata": {},
   "outputs": [],
   "source": [
    "from sklearn.feature_selection import SelectFromModel\n",
    "select = SelectFromModel(RandomForestClassifier(random_state=42), threshold=0.0001)"
   ]
  },
  {
   "cell_type": "code",
   "execution_count": 128,
   "metadata": {},
   "outputs": [
    {
     "data": {
      "text/plain": [
       "SelectFromModel(estimator=RandomForestClassifier(random_state=42),\n",
       "                threshold=0.0001)"
      ]
     },
     "execution_count": 128,
     "metadata": {},
     "output_type": "execute_result"
    }
   ],
   "source": [
    "select.fit(X_train, y_train)\n",
    "select.fit(X_test, y_test)"
   ]
  },
  {
   "cell_type": "code",
   "execution_count": 129,
   "metadata": {},
   "outputs": [],
   "source": [
    "X_train_l1 = select.transform(X_train)\n",
    "X_test_l1 = select.transform(X_test)"
   ]
  },
  {
   "cell_type": "code",
   "execution_count": 136,
   "metadata": {},
   "outputs": [
    {
     "name": "stdout",
     "output_type": "stream",
     "text": [
      "Grid-Search with accuracy\n",
      "Best parameters: {'max_features': 21, 'n_estimators': 1000}\n",
      "Best cross-validation score (accuracy)): 0.963\n",
      "Test set accuracy: 0.966\n"
     ]
    }
   ],
   "source": [
    "from sklearn.model_selection import GridSearchCV\n",
    "param_grid = {\"n_estimators\": [100, 250, 1000], \"max_features\": [7, 14, 21, 28]}\n",
    "grid = GridSearchCV(rf_classifier, param_grid = param_grid, cv=5, n_jobs=-1)\n",
    "grid.fit(X_train_l1, y_train)\n",
    "print(\"Grid-Search with accuracy\")\n",
    "print(\"Best parameters:\", grid.best_params_)\n",
    "print(\"Best cross-validation score (accuracy)): {:.3f}\".format(grid.best_score_))\n",
    "print(\"Test set accuracy: {:.3f}\".format(grid.score(X_test_l1, y_test)))"
   ]
  },
  {
   "cell_type": "code",
   "execution_count": 137,
   "metadata": {},
   "outputs": [
    {
     "data": {
      "text/html": [
       "<div>\n",
       "<style scoped>\n",
       "    .dataframe tbody tr th:only-of-type {\n",
       "        vertical-align: middle;\n",
       "    }\n",
       "\n",
       "    .dataframe tbody tr th {\n",
       "        vertical-align: top;\n",
       "    }\n",
       "\n",
       "    .dataframe thead th {\n",
       "        text-align: right;\n",
       "    }\n",
       "</style>\n",
       "<table border=\"1\" class=\"dataframe\">\n",
       "  <thead>\n",
       "    <tr style=\"text-align: right;\">\n",
       "      <th></th>\n",
       "      <th>mean_fit_time</th>\n",
       "      <th>std_fit_time</th>\n",
       "      <th>mean_score_time</th>\n",
       "      <th>std_score_time</th>\n",
       "      <th>param_max_features</th>\n",
       "      <th>param_n_estimators</th>\n",
       "      <th>split0_test_score</th>\n",
       "      <th>split1_test_score</th>\n",
       "      <th>split2_test_score</th>\n",
       "      <th>split3_test_score</th>\n",
       "      <th>split4_test_score</th>\n",
       "      <th>mean_test_score</th>\n",
       "      <th>std_test_score</th>\n",
       "      <th>rank_test_score</th>\n",
       "    </tr>\n",
       "  </thead>\n",
       "  <tbody>\n",
       "    <tr>\n",
       "      <th>0</th>\n",
       "      <td>10.026636</td>\n",
       "      <td>0.327153</td>\n",
       "      <td>0.309742</td>\n",
       "      <td>0.007390</td>\n",
       "      <td>7</td>\n",
       "      <td>100</td>\n",
       "      <td>0.956190</td>\n",
       "      <td>0.957460</td>\n",
       "      <td>0.958730</td>\n",
       "      <td>0.962063</td>\n",
       "      <td>0.958571</td>\n",
       "      <td>0.958603</td>\n",
       "      <td>0.001955</td>\n",
       "      <td>12</td>\n",
       "    </tr>\n",
       "    <tr>\n",
       "      <th>1</th>\n",
       "      <td>24.814994</td>\n",
       "      <td>0.966638</td>\n",
       "      <td>0.900492</td>\n",
       "      <td>0.044952</td>\n",
       "      <td>7</td>\n",
       "      <td>250</td>\n",
       "      <td>0.959365</td>\n",
       "      <td>0.959048</td>\n",
       "      <td>0.961587</td>\n",
       "      <td>0.963175</td>\n",
       "      <td>0.961270</td>\n",
       "      <td>0.960889</td>\n",
       "      <td>0.001521</td>\n",
       "      <td>11</td>\n",
       "    </tr>\n",
       "    <tr>\n",
       "      <th>2</th>\n",
       "      <td>112.452010</td>\n",
       "      <td>1.824324</td>\n",
       "      <td>8.568343</td>\n",
       "      <td>2.901027</td>\n",
       "      <td>7</td>\n",
       "      <td>1000</td>\n",
       "      <td>0.958889</td>\n",
       "      <td>0.962063</td>\n",
       "      <td>0.961270</td>\n",
       "      <td>0.964286</td>\n",
       "      <td>0.963333</td>\n",
       "      <td>0.961968</td>\n",
       "      <td>0.001855</td>\n",
       "      <td>7</td>\n",
       "    </tr>\n",
       "    <tr>\n",
       "      <th>3</th>\n",
       "      <td>19.476637</td>\n",
       "      <td>0.735403</td>\n",
       "      <td>0.384318</td>\n",
       "      <td>0.056976</td>\n",
       "      <td>14</td>\n",
       "      <td>100</td>\n",
       "      <td>0.961111</td>\n",
       "      <td>0.960000</td>\n",
       "      <td>0.959683</td>\n",
       "      <td>0.963333</td>\n",
       "      <td>0.960952</td>\n",
       "      <td>0.961016</td>\n",
       "      <td>0.001280</td>\n",
       "      <td>10</td>\n",
       "    </tr>\n",
       "    <tr>\n",
       "      <th>4</th>\n",
       "      <td>50.110650</td>\n",
       "      <td>0.646740</td>\n",
       "      <td>0.926384</td>\n",
       "      <td>0.144860</td>\n",
       "      <td>14</td>\n",
       "      <td>250</td>\n",
       "      <td>0.961111</td>\n",
       "      <td>0.962222</td>\n",
       "      <td>0.963810</td>\n",
       "      <td>0.963810</td>\n",
       "      <td>0.963333</td>\n",
       "      <td>0.962857</td>\n",
       "      <td>0.001048</td>\n",
       "      <td>4</td>\n",
       "    </tr>\n",
       "    <tr>\n",
       "      <th>5</th>\n",
       "      <td>189.631536</td>\n",
       "      <td>0.368455</td>\n",
       "      <td>6.710430</td>\n",
       "      <td>1.017890</td>\n",
       "      <td>14</td>\n",
       "      <td>1000</td>\n",
       "      <td>0.961270</td>\n",
       "      <td>0.962381</td>\n",
       "      <td>0.964921</td>\n",
       "      <td>0.963810</td>\n",
       "      <td>0.963492</td>\n",
       "      <td>0.963175</td>\n",
       "      <td>0.001250</td>\n",
       "      <td>2</td>\n",
       "    </tr>\n",
       "    <tr>\n",
       "      <th>6</th>\n",
       "      <td>26.504172</td>\n",
       "      <td>0.294814</td>\n",
       "      <td>0.326992</td>\n",
       "      <td>0.011156</td>\n",
       "      <td>21</td>\n",
       "      <td>100</td>\n",
       "      <td>0.958254</td>\n",
       "      <td>0.961111</td>\n",
       "      <td>0.963175</td>\n",
       "      <td>0.960794</td>\n",
       "      <td>0.963016</td>\n",
       "      <td>0.961270</td>\n",
       "      <td>0.001790</td>\n",
       "      <td>9</td>\n",
       "    </tr>\n",
       "    <tr>\n",
       "      <th>7</th>\n",
       "      <td>69.221472</td>\n",
       "      <td>1.800122</td>\n",
       "      <td>0.872541</td>\n",
       "      <td>0.101804</td>\n",
       "      <td>21</td>\n",
       "      <td>250</td>\n",
       "      <td>0.959206</td>\n",
       "      <td>0.963492</td>\n",
       "      <td>0.962222</td>\n",
       "      <td>0.962063</td>\n",
       "      <td>0.965714</td>\n",
       "      <td>0.962540</td>\n",
       "      <td>0.002118</td>\n",
       "      <td>5</td>\n",
       "    </tr>\n",
       "    <tr>\n",
       "      <th>8</th>\n",
       "      <td>246.807366</td>\n",
       "      <td>4.002196</td>\n",
       "      <td>3.491200</td>\n",
       "      <td>0.511830</td>\n",
       "      <td>21</td>\n",
       "      <td>1000</td>\n",
       "      <td>0.959683</td>\n",
       "      <td>0.963810</td>\n",
       "      <td>0.964921</td>\n",
       "      <td>0.963175</td>\n",
       "      <td>0.965397</td>\n",
       "      <td>0.963397</td>\n",
       "      <td>0.002017</td>\n",
       "      <td>1</td>\n",
       "    </tr>\n",
       "    <tr>\n",
       "      <th>9</th>\n",
       "      <td>34.806382</td>\n",
       "      <td>0.499628</td>\n",
       "      <td>0.324905</td>\n",
       "      <td>0.018074</td>\n",
       "      <td>28</td>\n",
       "      <td>100</td>\n",
       "      <td>0.957143</td>\n",
       "      <td>0.961587</td>\n",
       "      <td>0.961746</td>\n",
       "      <td>0.961746</td>\n",
       "      <td>0.964127</td>\n",
       "      <td>0.961270</td>\n",
       "      <td>0.002269</td>\n",
       "      <td>8</td>\n",
       "    </tr>\n",
       "    <tr>\n",
       "      <th>10</th>\n",
       "      <td>78.887587</td>\n",
       "      <td>4.647828</td>\n",
       "      <td>0.704094</td>\n",
       "      <td>0.013919</td>\n",
       "      <td>28</td>\n",
       "      <td>250</td>\n",
       "      <td>0.958889</td>\n",
       "      <td>0.960317</td>\n",
       "      <td>0.964444</td>\n",
       "      <td>0.963333</td>\n",
       "      <td>0.963651</td>\n",
       "      <td>0.962127</td>\n",
       "      <td>0.002140</td>\n",
       "      <td>6</td>\n",
       "    </tr>\n",
       "    <tr>\n",
       "      <th>11</th>\n",
       "      <td>227.925886</td>\n",
       "      <td>9.468538</td>\n",
       "      <td>1.945854</td>\n",
       "      <td>0.268871</td>\n",
       "      <td>28</td>\n",
       "      <td>1000</td>\n",
       "      <td>0.959683</td>\n",
       "      <td>0.963333</td>\n",
       "      <td>0.964444</td>\n",
       "      <td>0.962857</td>\n",
       "      <td>0.965556</td>\n",
       "      <td>0.963175</td>\n",
       "      <td>0.001980</td>\n",
       "      <td>2</td>\n",
       "    </tr>\n",
       "  </tbody>\n",
       "</table>\n",
       "</div>"
      ],
      "text/plain": [
       "    mean_fit_time  std_fit_time  mean_score_time  std_score_time  \\\n",
       "0       10.026636      0.327153         0.309742        0.007390   \n",
       "1       24.814994      0.966638         0.900492        0.044952   \n",
       "2      112.452010      1.824324         8.568343        2.901027   \n",
       "3       19.476637      0.735403         0.384318        0.056976   \n",
       "4       50.110650      0.646740         0.926384        0.144860   \n",
       "5      189.631536      0.368455         6.710430        1.017890   \n",
       "6       26.504172      0.294814         0.326992        0.011156   \n",
       "7       69.221472      1.800122         0.872541        0.101804   \n",
       "8      246.807366      4.002196         3.491200        0.511830   \n",
       "9       34.806382      0.499628         0.324905        0.018074   \n",
       "10      78.887587      4.647828         0.704094        0.013919   \n",
       "11     227.925886      9.468538         1.945854        0.268871   \n",
       "\n",
       "   param_max_features param_n_estimators  split0_test_score  \\\n",
       "0                   7                100           0.956190   \n",
       "1                   7                250           0.959365   \n",
       "2                   7               1000           0.958889   \n",
       "3                  14                100           0.961111   \n",
       "4                  14                250           0.961111   \n",
       "5                  14               1000           0.961270   \n",
       "6                  21                100           0.958254   \n",
       "7                  21                250           0.959206   \n",
       "8                  21               1000           0.959683   \n",
       "9                  28                100           0.957143   \n",
       "10                 28                250           0.958889   \n",
       "11                 28               1000           0.959683   \n",
       "\n",
       "    split1_test_score  split2_test_score  split3_test_score  \\\n",
       "0            0.957460           0.958730           0.962063   \n",
       "1            0.959048           0.961587           0.963175   \n",
       "2            0.962063           0.961270           0.964286   \n",
       "3            0.960000           0.959683           0.963333   \n",
       "4            0.962222           0.963810           0.963810   \n",
       "5            0.962381           0.964921           0.963810   \n",
       "6            0.961111           0.963175           0.960794   \n",
       "7            0.963492           0.962222           0.962063   \n",
       "8            0.963810           0.964921           0.963175   \n",
       "9            0.961587           0.961746           0.961746   \n",
       "10           0.960317           0.964444           0.963333   \n",
       "11           0.963333           0.964444           0.962857   \n",
       "\n",
       "    split4_test_score  mean_test_score  std_test_score  rank_test_score  \n",
       "0            0.958571         0.958603        0.001955               12  \n",
       "1            0.961270         0.960889        0.001521               11  \n",
       "2            0.963333         0.961968        0.001855                7  \n",
       "3            0.960952         0.961016        0.001280               10  \n",
       "4            0.963333         0.962857        0.001048                4  \n",
       "5            0.963492         0.963175        0.001250                2  \n",
       "6            0.963016         0.961270        0.001790                9  \n",
       "7            0.965714         0.962540        0.002118                5  \n",
       "8            0.965397         0.963397        0.002017                1  \n",
       "9            0.964127         0.961270        0.002269                8  \n",
       "10           0.963651         0.962127        0.002140                6  \n",
       "11           0.965556         0.963175        0.001980                2  "
      ]
     },
     "execution_count": 137,
     "metadata": {},
     "output_type": "execute_result"
    }
   ],
   "source": [
    "pd.DataFrame(grid.cv_results_).drop(columns={\"params\"})"
   ]
  },
  {
   "cell_type": "code",
   "execution_count": 140,
   "metadata": {},
   "outputs": [
    {
     "name": "stdout",
     "output_type": "stream",
     "text": [
      "Accuracy on training set: 0.97\n",
      "Accuracy on test set: 0.94\n"
     ]
    }
   ],
   "source": [
    "from sklearn.ensemble import GradientBoostingClassifier\n",
    "gbrt = GradientBoostingClassifier(random_state=42)\n",
    "gbrt.fit(X_train_l1, y_train)\n",
    "print(\"Accuracy on training set: {:.2f}\".format(gbrt.score(X_train_l1, y_train)))\n",
    "print(\"Accuracy on test set: {:.2f}\".format(gbrt.score(X_test_l1, y_test)))"
   ]
  },
  {
   "cell_type": "code",
   "execution_count": 154,
   "metadata": {},
   "outputs": [
    {
     "name": "stdout",
     "output_type": "stream",
     "text": [
      "Grid-Search with accuracy\n",
      "Best parameters: {'learning_rate': 0.3, 'max_depth': 5}\n",
      "Best cross-validation score (accuracy)): 0.967\n",
      "Test set accuracy: 0.973\n"
     ]
    }
   ],
   "source": [
    "from sklearn.experimental import enable_hist_gradient_boosting\n",
    "from sklearn.ensemble import HistGradientBoostingClassifier\n",
    "from sklearn.model_selection import GridSearchCV\n",
    "param_grid = {\"learning_rate\": [0.1, 0.3, 0.5, 0.7, 0.9, 1.0], \"max_depth\": [1, 2, 3, 4, 5]}\n",
    "grid = GridSearchCV(HistGradientBoostingClassifier(), param_grid = param_grid, cv=5, n_jobs=-1)\n",
    "grid.fit(X_train_l1, y_train)\n",
    "print(\"Grid-Search with accuracy\")\n",
    "print(\"Best parameters:\", grid.best_params_)\n",
    "print(\"Best cross-validation score (accuracy)): {:.3f}\".format(grid.best_score_))\n",
    "print(\"Test set accuracy: {:.3f}\".format(grid.score(X_test_l1, y_test)))"
   ]
  },
  {
   "cell_type": "code",
   "execution_count": 292,
   "metadata": {},
   "outputs": [],
   "source": [
    "# Train model on full dataset\n",
    "X_l1 = select.transform(X)"
   ]
  },
  {
   "cell_type": "code",
   "execution_count": 295,
   "metadata": {},
   "outputs": [],
   "source": [
    "hgbc = HistGradientBoostingClassifier(learning_rate = 0.3)"
   ]
  },
  {
   "cell_type": "code",
   "execution_count": 298,
   "metadata": {},
   "outputs": [
    {
     "data": {
      "text/plain": [
       "HistGradientBoostingClassifier(learning_rate=0.3)"
      ]
     },
     "execution_count": 298,
     "metadata": {},
     "output_type": "execute_result"
    }
   ],
   "source": [
    "hgbc.fit(X_l1, y)"
   ]
  },
  {
   "cell_type": "code",
   "execution_count": null,
   "metadata": {},
   "outputs": [],
   "source": [
    "hgbc.fit(X_l1)"
   ]
  },
  {
   "cell_type": "code",
   "execution_count": 301,
   "metadata": {},
   "outputs": [
    {
     "name": "stdout",
     "output_type": "stream",
     "text": [
      "Overall prediction accuracy: 0.960\n"
     ]
    }
   ],
   "source": [
    "prediction = hgbc.predict(X_l1)\n",
    "accuracy = np.mean(prediction == y)\n",
    "print(\"Overall prediction accuracy: {:.3f}\".format(accuracy))"
   ]
  },
  {
   "cell_type": "code",
   "execution_count": 157,
   "metadata": {},
   "outputs": [
    {
     "data": {
      "image/png": "[encoded data removed]",
      "text/plain": [
       "<Figure size 432x288 with 1 Axes>"
      ]
     },
     "metadata": {
      "needs_background": "light"
     },
     "output_type": "display_data"
    }
   ],
   "source": [
    "from sklearn.metrics import confusion_matrix\n",
    "scores_image = mglearn.tools.heatmap(\n",
    "    confusion_matrix(y_test, grid.predict(X_test_l1)), xlabel='Predicted label',\n",
    "    ylabel='True label', xticklabels=[0,1,2,3,4,5,6,7,8,9],\n",
    "    yticklabels=[0,1,2,3,4,5,6,7,8,9], cmap=plt.cm.gray_r, fmt=\"%d\")\n",
    "plt.title(\"Confusion matrix\")\n",
    "plt.gca().invert_yaxis()"
   ]
  },
  {
   "cell_type": "code",
   "execution_count": null,
   "metadata": {},
   "outputs": [],
   "source": [
    "# Key confusions 4 & 9, 9 & 7, 3 & 8\n",
    "# Can I plot confused images next to each other with probablities\n",
    "# Subtract arrays from one another True minus Predicted e.g. 4 - 9 = -5"
   ]
  },
  {
   "cell_type": "code",
   "execution_count": 158,
   "metadata": {},
   "outputs": [
    {
     "data": {
      "text/plain": [
       "array([8, 5, 2, 4, 5, 0, 6, 6, 7, 9], dtype=int64)"
      ]
     },
     "execution_count": 158,
     "metadata": {},
     "output_type": "execute_result"
    }
   ],
   "source": [
    "y_test[:10]"
   ]
  },
  {
   "cell_type": "code",
   "execution_count": 164,
   "metadata": {},
   "outputs": [
    {
     "data": {
      "text/plain": [
       "array([False,  True, False, False,  True, False, False, False, False,\n",
       "       False])"
      ]
     },
     "execution_count": 164,
     "metadata": {},
     "output_type": "execute_result"
    }
   ],
   "source": [
    "prediction = grid.predict(X_test_l1)\n",
    "prediction[:10] == 5\n",
    "y_test[:10] == 5"
   ]
  },
  {
   "cell_type": "code",
   "execution_count": 168,
   "metadata": {},
   "outputs": [],
   "source": [
    "a = y_test == 4\n",
    "b = prediction == 9"
   ]
  },
  {
   "cell_type": "code",
   "execution_count": 174,
   "metadata": {},
   "outputs": [],
   "source": [
    "c = a*b"
   ]
  },
  {
   "cell_type": "code",
   "execution_count": 176,
   "metadata": {},
   "outputs": [],
   "source": [
    "d = X_test[c]"
   ]
  },
  {
   "cell_type": "code",
   "execution_count": 180,
   "metadata": {},
   "outputs": [],
   "source": [
    "e = d[~np.all(d == 0, axis=1)]"
   ]
  },
  {
   "cell_type": "code",
   "execution_count": 181,
   "metadata": {},
   "outputs": [
    {
     "data": {
      "text/plain": [
       "(19, 784)"
      ]
     },
     "execution_count": 181,
     "metadata": {},
     "output_type": "execute_result"
    }
   ],
   "source": [
    "e.shape"
   ]
  },
  {
   "cell_type": "code",
   "execution_count": 183,
   "metadata": {},
   "outputs": [],
   "source": [
    "f = e.reshape(19,28,28)"
   ]
  },
  {
   "cell_type": "code",
   "execution_count": 185,
   "metadata": {},
   "outputs": [
    {
     "data": {
      "image/png": "[encoded data removed]",
      "text/plain": [
       "<Figure size 360x360 with 19 Axes>"
      ]
     },
     "metadata": {},
     "output_type": "display_data"
    }
   ],
   "source": [
    "# set up the figure\n",
    "fig = plt.figure(figsize=(5, 5))  # figure size in inches\n",
    "fig.subplots_adjust(left=0, right=1, bottom=0, top=1, hspace=0.05, wspace=0.05)\n",
    "\n",
    "# plot the digits: each image is 28x28 pixels\n",
    "for i in range(19):\n",
    "    ax = fig.add_subplot(4, 5, i + 1, xticks=[], yticks=[])\n",
    "    ax.imshow(f[i], cmap=plt.cm.Greys, interpolation='nearest')\n",
    "    \n",
    "    # label the image with the target value\n",
    "#     ax.text(0, 7, str(y[i]))"
   ]
  },
  {
   "cell_type": "code",
   "execution_count": 265,
   "metadata": {},
   "outputs": [],
   "source": [
    "def confused_numbers(true_num, pred_num, y_test, prediction, X_test):\n",
    "    a = y_test == true_num\n",
    "    b = prediction == pred_num\n",
    "    c = a*b\n",
    "    d = X_test[c]\n",
    "    e = d[~np.all(d == 0, axis=1)]\n",
    "    g = e.shape[0]\n",
    "    f = e.reshape(g,28,28)\n",
    "    fig = plt.figure(figsize=(5, 5), frameon=True)  # figure size in inches\n",
    "#     plt.title(f\"Confused Digits: True: {true_num} Predicted: {pred_num}\")\n",
    "    fig.subplots_adjust(left=0, right=1, bottom=0, top=1, hspace=0.05, wspace=0.05)\n",
    "    \n",
    "    \n",
    "    # plot the digits: each image is 28x28 pixels\n",
    "    for i in range(g):\n",
    "        ax = fig.add_subplot(4, g//3, i + 1, xticks=[], yticks=[])\n",
    "        ax.imshow(f[i], cmap=plt.cm.Greys, interpolation='nearest')\n",
    "    \n",
    "    print(f\"Confused Digits: True: {true_num} Predicted: {pred_num} Count: {g}\")\n",
    "    \n",
    "    return c"
   ]
  },
  {
   "cell_type": "code",
   "execution_count": 266,
   "metadata": {},
   "outputs": [
    {
     "name": "stdout",
     "output_type": "stream",
     "text": [
      "Confused Digits: True: 9 Predicted: 7 Count: 15\n"
     ]
    },
    {
     "data": {
      "image/png": "[encoded data removed]",
      "text/plain": [
       "<Figure size 360x360 with 15 Axes>"
      ]
     },
     "metadata": {},
     "output_type": "display_data"
    }
   ],
   "source": [
    "c = confused_numbers(9,7,y_test, prediction, X_test)"
   ]
  },
  {
   "cell_type": "code",
   "execution_count": 291,
   "metadata": {},
   "outputs": [
    {
     "name": "stdout",
     "output_type": "stream",
     "text": [
      "[[0.00 0.00 0.00 0.00 0.00 0.00 0.00 0.91 0.00 0.09]\n",
      " [0.00 0.00 0.00 0.00 0.00 0.00 0.00 0.55 0.00 0.44]\n",
      " [0.00 0.00 0.00 0.00 0.00 0.00 0.00 0.99 0.00 0.01]\n",
      " [0.00 0.00 0.00 0.01 0.00 0.00 0.00 0.98 0.00 0.01]\n",
      " [0.00 0.00 0.01 0.00 0.04 0.16 0.00 0.54 0.00 0.25]\n",
      " [0.00 0.00 0.00 0.00 0.00 0.00 0.00 1.00 0.00 0.00]\n",
      " [0.00 0.00 0.11 0.01 0.00 0.06 0.00 0.44 0.00 0.38]\n",
      " [0.00 0.00 0.00 0.00 0.00 0.00 0.00 0.98 0.00 0.02]\n",
      " [0.00 0.00 0.00 0.00 0.00 0.00 0.00 1.00 0.00 0.00]\n",
      " [0.00 0.15 0.00 0.00 0.00 0.00 0.00 0.76 0.00 0.09]\n",
      " [0.00 0.00 0.00 0.00 0.00 0.00 0.00 0.97 0.00 0.03]\n",
      " [0.00 0.11 0.00 0.00 0.00 0.00 0.00 0.84 0.00 0.05]\n",
      " [0.00 0.00 0.06 0.00 0.28 0.10 0.00 0.55 0.00 0.00]\n",
      " [0.00 0.00 0.00 0.00 0.00 0.00 0.00 0.93 0.00 0.07]\n",
      " [0.00 0.00 0.00 0.00 0.07 0.00 0.00 0.72 0.00 0.22]]\n"
     ]
    }
   ],
   "source": [
    "float_formatter = \"{:.2f}\".format\n",
    "np.set_printoptions(formatter={'float_kind':float_formatter})\n",
    "h = grid.predict_proba(X_test_l1)[c]\n",
    "print(h)"
   ]
  },
  {
   "cell_type": "code",
   "execution_count": 272,
   "metadata": {},
   "outputs": [
    {
     "ename": "TypeError",
     "evalue": "unsupported format string passed to numpy.ndarray.__format__",
     "output_type": "error",
     "traceback": [
      "\u001b[1;31m---------------------------------------------------------------------------\u001b[0m",
      "\u001b[1;31mTypeError\u001b[0m                                 Traceback (most recent call last)",
      "\u001b[1;32m<ipython-input-272-cb43ff2b5e14>\u001b[0m in \u001b[0;36m<module>\u001b[1;34m\u001b[0m\n\u001b[1;32m----> 1\u001b[1;33m \u001b[0mprint\u001b[0m\u001b[1;33m(\u001b[0m\u001b[1;34m\"Test set accuracy: {:.3f}\"\u001b[0m\u001b[1;33m.\u001b[0m\u001b[0mformat\u001b[0m\u001b[1;33m(\u001b[0m\u001b[0mh\u001b[0m\u001b[1;33m[\u001b[0m\u001b[1;36m0\u001b[0m\u001b[1;33m]\u001b[0m\u001b[1;33m)\u001b[0m\u001b[1;33m)\u001b[0m\u001b[1;33m\u001b[0m\u001b[1;33m\u001b[0m\u001b[0m\n\u001b[0m",
      "\u001b[1;31mTypeError\u001b[0m: unsupported format string passed to numpy.ndarray.__format__"
     ]
    }
   ],
   "source": [
    "print(\"Test set accuracy: {:.3f}\".format(h[0]))"
   ]
  }
 ],
 "metadata": {
  "kernelspec": {
   "display_name": "Python [conda env:root] *",
   "language": "python",
   "name": "conda-root-py"
  },
  "language_info": {
   "codemirror_mode": {
    "name": "ipython",
    "version": 3
   },
   "file_extension": ".py",
   "mimetype": "text/x-python",
   "name": "python",
   "nbconvert_exporter": "python",
   "pygments_lexer": "ipython3",
   "version": "3.8.5"
  }
 },
 "nbformat": 4,
 "nbformat_minor": 4
}
